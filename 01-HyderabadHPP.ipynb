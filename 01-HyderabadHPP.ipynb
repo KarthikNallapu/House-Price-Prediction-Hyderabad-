{
 "cells": [
  {
   "cell_type": "code",
   "execution_count": 27,
   "metadata": {},
   "outputs": [],
   "source": [
    "import pandas as pd\n",
    "import numpy as np\n",
    "import matplotlib.pyplot as plt\n",
    "data=pd.read_csv(\"HYD123.csv\")\n"
   ]
  },
  {
   "cell_type": "code",
   "execution_count": 28,
   "metadata": {},
   "outputs": [
    {
     "data": {
      "text/html": [
       "<div>\n",
       "<style scoped>\n",
       "    .dataframe tbody tr th:only-of-type {\n",
       "        vertical-align: middle;\n",
       "    }\n",
       "\n",
       "    .dataframe tbody tr th {\n",
       "        vertical-align: top;\n",
       "    }\n",
       "\n",
       "    .dataframe thead th {\n",
       "        text-align: right;\n",
       "    }\n",
       "</style>\n",
       "<table border=\"1\" class=\"dataframe\">\n",
       "  <thead>\n",
       "    <tr style=\"text-align: right;\">\n",
       "      <th></th>\n",
       "      <th>Area</th>\n",
       "      <th>Location</th>\n",
       "      <th>No. of Bedrooms</th>\n",
       "      <th>Resale</th>\n",
       "    </tr>\n",
       "  </thead>\n",
       "  <tbody>\n",
       "    <tr>\n",
       "      <th>0</th>\n",
       "      <td>1340</td>\n",
       "      <td>Nizampet</td>\n",
       "      <td>2</td>\n",
       "      <td>0</td>\n",
       "    </tr>\n",
       "    <tr>\n",
       "      <th>1</th>\n",
       "      <td>3498</td>\n",
       "      <td>Hitech City</td>\n",
       "      <td>4</td>\n",
       "      <td>0</td>\n",
       "    </tr>\n",
       "    <tr>\n",
       "      <th>2</th>\n",
       "      <td>1318</td>\n",
       "      <td>Manikonda</td>\n",
       "      <td>2</td>\n",
       "      <td>0</td>\n",
       "    </tr>\n",
       "    <tr>\n",
       "      <th>3</th>\n",
       "      <td>1295</td>\n",
       "      <td>Alwal</td>\n",
       "      <td>3</td>\n",
       "      <td>1</td>\n",
       "    </tr>\n",
       "    <tr>\n",
       "      <th>4</th>\n",
       "      <td>1145</td>\n",
       "      <td>Kukatpally</td>\n",
       "      <td>2</td>\n",
       "      <td>0</td>\n",
       "    </tr>\n",
       "  </tbody>\n",
       "</table>\n",
       "</div>"
      ],
      "text/plain": [
       "   Area     Location  No. of Bedrooms  Resale\n",
       "0  1340     Nizampet                2       0\n",
       "1  3498  Hitech City                4       0\n",
       "2  1318    Manikonda                2       0\n",
       "3  1295        Alwal                3       1\n",
       "4  1145   Kukatpally                2       0"
      ]
     },
     "execution_count": 28,
     "metadata": {},
     "output_type": "execute_result"
    }
   ],
   "source": [
    "data.head()"
   ]
  },
  {
   "cell_type": "code",
   "execution_count": 29,
   "metadata": {},
   "outputs": [
    {
     "data": {
      "text/html": [
       "<div>\n",
       "<style scoped>\n",
       "    .dataframe tbody tr th:only-of-type {\n",
       "        vertical-align: middle;\n",
       "    }\n",
       "\n",
       "    .dataframe tbody tr th {\n",
       "        vertical-align: top;\n",
       "    }\n",
       "\n",
       "    .dataframe thead th {\n",
       "        text-align: right;\n",
       "    }\n",
       "</style>\n",
       "<table border=\"1\" class=\"dataframe\">\n",
       "  <thead>\n",
       "    <tr style=\"text-align: right;\">\n",
       "      <th></th>\n",
       "      <th>Area</th>\n",
       "      <th>Location</th>\n",
       "      <th>No. of Bedrooms</th>\n",
       "      <th>Resale</th>\n",
       "    </tr>\n",
       "  </thead>\n",
       "  <tbody>\n",
       "    <tr>\n",
       "      <th>2513</th>\n",
       "      <td>1460</td>\n",
       "      <td>Nacharam</td>\n",
       "      <td>2</td>\n",
       "      <td>1</td>\n",
       "    </tr>\n",
       "    <tr>\n",
       "      <th>2514</th>\n",
       "      <td>1314</td>\n",
       "      <td>Manikonda</td>\n",
       "      <td>2</td>\n",
       "      <td>1</td>\n",
       "    </tr>\n",
       "    <tr>\n",
       "      <th>2515</th>\n",
       "      <td>2625</td>\n",
       "      <td>Madhapur</td>\n",
       "      <td>3</td>\n",
       "      <td>1</td>\n",
       "    </tr>\n",
       "    <tr>\n",
       "      <th>2516</th>\n",
       "      <td>2050</td>\n",
       "      <td>Hitech City</td>\n",
       "      <td>3</td>\n",
       "      <td>0</td>\n",
       "    </tr>\n",
       "    <tr>\n",
       "      <th>2517</th>\n",
       "      <td>1805</td>\n",
       "      <td>Narsingi</td>\n",
       "      <td>3</td>\n",
       "      <td>0</td>\n",
       "    </tr>\n",
       "  </tbody>\n",
       "</table>\n",
       "</div>"
      ],
      "text/plain": [
       "      Area     Location  No. of Bedrooms  Resale\n",
       "2513  1460     Nacharam                2       1\n",
       "2514  1314    Manikonda                2       1\n",
       "2515  2625     Madhapur                3       1\n",
       "2516  2050  Hitech City                3       0\n",
       "2517  1805     Narsingi                3       0"
      ]
     },
     "execution_count": 29,
     "metadata": {},
     "output_type": "execute_result"
    }
   ],
   "source": [
    "data.tail()"
   ]
  },
  {
   "cell_type": "code",
   "execution_count": 30,
   "metadata": {},
   "outputs": [
    {
     "data": {
      "text/plain": [
       "(2518, 4)"
      ]
     },
     "execution_count": 30,
     "metadata": {},
     "output_type": "execute_result"
    }
   ],
   "source": [
    "data.shape"
   ]
  },
  {
   "cell_type": "code",
   "execution_count": 31,
   "metadata": {},
   "outputs": [
    {
     "data": {
      "text/html": [
       "<div>\n",
       "<style scoped>\n",
       "    .dataframe tbody tr th:only-of-type {\n",
       "        vertical-align: middle;\n",
       "    }\n",
       "\n",
       "    .dataframe tbody tr th {\n",
       "        vertical-align: top;\n",
       "    }\n",
       "\n",
       "    .dataframe thead th {\n",
       "        text-align: right;\n",
       "    }\n",
       "</style>\n",
       "<table border=\"1\" class=\"dataframe\">\n",
       "  <thead>\n",
       "    <tr style=\"text-align: right;\">\n",
       "      <th></th>\n",
       "      <th>Area</th>\n",
       "      <th>No. of Bedrooms</th>\n",
       "      <th>Resale</th>\n",
       "    </tr>\n",
       "  </thead>\n",
       "  <tbody>\n",
       "    <tr>\n",
       "      <th>count</th>\n",
       "      <td>2518.000000</td>\n",
       "      <td>2518.000000</td>\n",
       "      <td>2518.000000</td>\n",
       "    </tr>\n",
       "    <tr>\n",
       "      <th>mean</th>\n",
       "      <td>1644.571088</td>\n",
       "      <td>2.623511</td>\n",
       "      <td>0.227562</td>\n",
       "    </tr>\n",
       "    <tr>\n",
       "      <th>std</th>\n",
       "      <td>746.256956</td>\n",
       "      <td>0.687330</td>\n",
       "      <td>0.419341</td>\n",
       "    </tr>\n",
       "    <tr>\n",
       "      <th>min</th>\n",
       "      <td>500.000000</td>\n",
       "      <td>1.000000</td>\n",
       "      <td>0.000000</td>\n",
       "    </tr>\n",
       "    <tr>\n",
       "      <th>25%</th>\n",
       "      <td>1160.000000</td>\n",
       "      <td>2.000000</td>\n",
       "      <td>0.000000</td>\n",
       "    </tr>\n",
       "    <tr>\n",
       "      <th>50%</th>\n",
       "      <td>1500.000000</td>\n",
       "      <td>3.000000</td>\n",
       "      <td>0.000000</td>\n",
       "    </tr>\n",
       "    <tr>\n",
       "      <th>75%</th>\n",
       "      <td>1829.000000</td>\n",
       "      <td>3.000000</td>\n",
       "      <td>0.000000</td>\n",
       "    </tr>\n",
       "    <tr>\n",
       "      <th>max</th>\n",
       "      <td>9400.000000</td>\n",
       "      <td>8.000000</td>\n",
       "      <td>1.000000</td>\n",
       "    </tr>\n",
       "  </tbody>\n",
       "</table>\n",
       "</div>"
      ],
      "text/plain": [
       "              Area  No. of Bedrooms       Resale\n",
       "count  2518.000000      2518.000000  2518.000000\n",
       "mean   1644.571088         2.623511     0.227562\n",
       "std     746.256956         0.687330     0.419341\n",
       "min     500.000000         1.000000     0.000000\n",
       "25%    1160.000000         2.000000     0.000000\n",
       "50%    1500.000000         3.000000     0.000000\n",
       "75%    1829.000000         3.000000     0.000000\n",
       "max    9400.000000         8.000000     1.000000"
      ]
     },
     "execution_count": 31,
     "metadata": {},
     "output_type": "execute_result"
    }
   ],
   "source": [
    "data.describe()"
   ]
  },
  {
   "cell_type": "code",
   "execution_count": 32,
   "metadata": {},
   "outputs": [
    {
     "data": {
      "text/plain": [
       "Area               0\n",
       "Location           0\n",
       "No. of Bedrooms    0\n",
       "Resale             0\n",
       "dtype: int64"
      ]
     },
     "execution_count": 32,
     "metadata": {},
     "output_type": "execute_result"
    }
   ],
   "source": [
    "data.isnull().sum()"
   ]
  },
  {
   "cell_type": "code",
   "execution_count": 33,
   "metadata": {},
   "outputs": [
    {
     "name": "stdout",
     "output_type": "stream",
     "text": [
      "duplicate_rows:\n",
      "Int64Index([  18,   20,   21,   22,   23,   24,   25,   26,   27,   28,\n",
      "            ...\n",
      "            2481, 2482, 2483, 2486, 2489, 2495, 2502, 2504, 2514, 2515],\n",
      "           dtype='int64', length=1034)\n",
      "duplicate_data:\n",
      "      Area     Location  No. of Bedrooms  Resale\n",
      "18    2240     Tellapur                3       0\n",
      "20    1340     Nizampet                2       0\n",
      "21    3498  Hitech City                4       0\n",
      "22    1318    Manikonda                2       0\n",
      "23    1295        Alwal                3       1\n",
      "...    ...          ...              ...     ...\n",
      "2495  1250   Nallakunta                3       1\n",
      "2502  1050     Nacharam                2       0\n",
      "2504  1000     Nacharam                2       1\n",
      "2514  1314    Manikonda                2       1\n",
      "2515  2625     Madhapur                3       1\n",
      "\n",
      "[1034 rows x 4 columns]\n"
     ]
    }
   ],
   "source": [
    "duplicate_rows = data[data.duplicated()].index\n",
    "duplicate_data = data.loc[duplicate_rows]\n",
    "\n",
    "print(\"duplicate_rows:\")\n",
    "print(duplicate_rows)\n",
    "print(\"duplicate_data:\")\n",
    "print(duplicate_data)"
   ]
  },
  {
   "cell_type": "code",
   "execution_count": 34,
   "metadata": {},
   "outputs": [
    {
     "name": "stdout",
     "output_type": "stream",
     "text": [
      "Unique values in the 'location' column:\n",
      "['Nizampet' 'Hitech City' 'Manikonda' 'Alwal' 'Kukatpally' 'Gachibowli'\n",
      " 'Tellapur' 'Kokapet' 'Hyder Nagar' 'Mehdipatnam' 'Narsingi'\n",
      " 'Khajaguda Nanakramguda Road' 'Madhapur' 'Puppalaguda' 'Begumpet'\n",
      " 'Banjara Hills' 'AS Rao Nagar' 'Pragathi Nagar Kukatpally' 'Miyapur'\n",
      " 'Mallampet' 'Nanakramguda' 'Attapur' 'West Marredpally' 'Kompally'\n",
      " 'Sri Nagar Colony' 'Hakimpet' 'Pocharam' 'Nagole' 'LB Nagar' 'Meerpet'\n",
      " 'Kachiguda' 'Masab Tank' 'Kondapur' 'Saroornagar' 'Uppal Kalan'\n",
      " 'Mallapur' 'Rajendra Nagar' 'Beeramguda' 'Moosapet' 'Bachupally'\n",
      " 'Toli Chowki' 'Lakdikapul' 'Tarnaka' 'Kistareddypet' 'Hafeezpet'\n",
      " 'Shaikpet' 'Amberpet' 'Kapra' 'Trimalgherry' 'Habsiguda' 'Sanath Nagar'\n",
      " 'Darga Khaliz Khan' 'Kothaguda' 'Balanagar' 'Jubilee Hills' 'raidurgam'\n",
      " 'Murad Nagar' 'Chandanagar' 'East Marredpally' 'Aminpur' 'Gajularamaram'\n",
      " 'Serilingampally' 'Malkajgiri' 'Mettuguda' 'Venkat Nagar Colony'\n",
      " 'Kondakal' 'Gopanpally' 'Somajiguda' 'Nallagandla Gachibowli'\n",
      " 'Krishna Reddy Pet' 'Bolarum' 'Zamistanpur' 'Madhura Nagar'\n",
      " 'Ghansi Bazaar' 'Chintalakunta' 'Chinthal Basthi' 'Nallakunta'\n",
      " 'Bowenpally' 'Bandlaguda Jagir' 'Boduppal' 'Neknampur'\n",
      " 'Appa Junction Peerancheru' 'Ambedkar Nagar' 'Vanasthalipuram'\n",
      " 'Moula Ali' 'Gandipet' 'Nacharam' 'Appa Junction' 'Qutub Shahi Tombs'\n",
      " 'Abids' 'Dilsukh Nagar' 'Quthbullapur' 'Sainikpuri' 'KTR Colony'\n",
      " 'Bollaram' 'Karmanghat' 'Gajulramaram Kukatpally' 'Uppal' 'Cherlapalli'\n",
      " 'Himayat Nagar' 'Rhoda Mistri Nagar' 'Chintalmet' 'Hitex Road' 'ECIL'\n",
      " 'Boiguda' 'ECIL Main Road' 'ECIL Cross Road' 'Rajbhavan Road Somajiguda'\n",
      " 'Ramachandra Puram' 'TellapurOsman Nagar Road' 'Mansoorabad'\n",
      " 'KRCR Colony Road' 'Pragati Nagar' 'Padmarao Nagar'\n",
      " 'Paramount Colony Toli Chowki' 'BK Guda Internal Road' 'muthangi'\n",
      " 'Pragathi Nagar' 'Yapral' 'Narayanguda' 'Kollur' 'Bachupally Road'\n",
      " 'Old Bowenpally' 'Alapathi Nagar' 'Arvind Nagar Colony' 'Matrusri Nagar'\n",
      " 'Pragathi Nagar Road' 'Padma Colony' 'Happy Homes Colony'\n",
      " 'Old Nallakunta' 'Sangeet Nagar' 'NRSA Colony' 'Adibatla'\n",
      " 'Methodist Colony' 'Ameerpet' 'ALIND Employees Colony' 'Khizra Enclave'\n",
      " 'Medchal' 'Dammaiguda' 'Suchitra' 'Whitefields' 'Mayuri Nagar'\n",
      " 'Adda Gutta' 'Miyapur HMT Swarnapuri Colony'\n",
      " 'Central Excise Colony Hyderabad' 'Basheer Bagh' 'Gopal Nagar'\n",
      " 'Bachupaly Road Miyapur' 'Kushaiguda' 'Ashok Nagar' 'Barkatpura'\n",
      " 'Madinaguda' 'Bagh Amberpet' 'new nallakunta' 'BHEL' 'Sun City'\n",
      " 'Hydershakote' 'BK Guda Road' 'Nallagandla Road' 'IDPL Colony'\n",
      " 'Ramnagar Gundu' 'Alkapur township' 'Banjara Hills Road Number 12'\n",
      " 'Panchavati Colony Manikonda' 'New Maruthi Nagar'\n",
      " 'Madhavaram Nagar Colony' 'Miyapur Bachupally Road' 'nizampet road'\n",
      " 'Kokapeta Village' 'HMT Hills' 'Tilak Nagar' 'Chititra Medchal' 'Isnapur'\n",
      " 'D D Colony' 'DD Colony' 'Patancheru Shankarpalli Road' 'Patancheru'\n",
      " 'Jhangir Pet' 'Almasguda' 'Allwyn Colony' 'financial District'\n",
      " 'Beeramguda Road' 'Pati' 'Karimnagar' 'Kollur Road'\n",
      " 'Sun City Padmasri Estates' 'Chaitanyapuri' 'Nandagiri Hills'\n",
      " 'Whitefield' 'Film Nagar' 'Kismatpur' 'Dr A S Rao Nagar Rd' 'Dullapally'\n",
      " 'KPHB' 'Vivekananda Nagar Colony' 'Ameenpur' 'Chintradripet' 'Ring Road'\n",
      " 'Saket' 'Kavuri Hills' 'manneguda' 'Moti Nagar' 'Usman Nagar' 'Shadnagar'\n",
      " 'Bongloor' 'Mailardevpally' 'Uppalguda' 'Tirumalgiri' 'Chikkadapally'\n",
      " 'JNTU' 'hyderabad' 'Shamshabad' 'Srisailam Highway' 'Domalguda'\n",
      " 'Lingampalli' 'Residential Flat Machavaram' 'Whisper Valley'\n",
      " 'Tukkuguda Airport View Point Road' 'Santoshnagar' 'Tolichowki'\n",
      " 'Domalguda Road' 'Shankarpalli' 'Kothapet' 'Baghlingampally' 'Picket'\n",
      " 'Safilguda' 'Sikh Village' 'Neredmet' 'Macha Bolarum' 'Kowkur'\n",
      " 'Rakshapuram' 'west venkatapuram' 'Vidyanagar Adikmet' 'Aushapur'\n",
      " 'Old Alwal' 'Secunderabad Railway Station Road' 'Balapur' 'Hastinapur'\n",
      " 'chandrayangutta' 'Balaji Hills Colony Venkatraya Nagar'\n",
      " 'Janachaitanya Colony' 'Gurramguda' 'Paradise Circle']\n",
      "Frequency of each value in the 'location' column:\n",
      "Kukatpally                       166\n",
      "Kondapur                         149\n",
      "Manikonda                        115\n",
      "Nizampet                         106\n",
      "Gachibowli                        83\n",
      "                                ... \n",
      "Basheer Bagh                       1\n",
      "Miyapur HMT Swarnapuri Colony      1\n",
      "Adda Gutta                         1\n",
      "Mayuri Nagar                       1\n",
      "Paradise Circle                    1\n",
      "Name: Location, Length: 243, dtype: int64\n"
     ]
    },
    {
     "data": {
      "text/plain": [
       "Index(['Kukatpally', 'Kondapur', 'Manikonda', 'Nizampet', 'Gachibowli',\n",
       "       'Hitech City', 'Miyapur', 'Kokapet', 'Pragathi Nagar Kukatpally',\n",
       "       'Bachupally Road', 'Narsingi', 'Puppalaguda', 'Beeramguda',\n",
       "       'Nanakramguda', 'Gajularamaram', 'Banjara Hills', 'Tellapur',\n",
       "       'Appa Junction', 'Serilingampally', 'Jubilee Hills'],\n",
       "      dtype='object')"
      ]
     },
     "execution_count": 34,
     "metadata": {},
     "output_type": "execute_result"
    }
   ],
   "source": [
    "\n",
    "\"\"\"**3.FEATURE ENGINEERING**\"\"\"\n",
    "\n",
    "unique_locations = data['Location'].unique()\n",
    "\n",
    "print(\"Unique values in the 'location' column:\")\n",
    "print(unique_locations)\n",
    "\n",
    "# Find the frequency of each value in the 'location' column\n",
    "location_frequency = data['Location'].value_counts()\n",
    "\n",
    "print(\"Frequency of each value in the 'location' column:\")\n",
    "print(location_frequency)\n",
    "\n",
    "top_20_locations = data['Location'].value_counts().nlargest(20).index\n",
    "\n",
    "top_20_locations"
   ]
  },
  {
   "cell_type": "code",
   "execution_count": 35,
   "metadata": {},
   "outputs": [
    {
     "name": "stdout",
     "output_type": "stream",
     "text": [
      "Kukatpally                   166\n",
      "Kondapur                     149\n",
      "Manikonda                    115\n",
      "Nizampet                     106\n",
      "Gachibowli                    83\n",
      "Hitech City                   82\n",
      "Miyapur                       80\n",
      "Kokapet                       79\n",
      "Pragathi Nagar Kukatpally     57\n",
      "Bachupally Road               55\n",
      "Narsingi                      52\n",
      "Puppalaguda                   51\n",
      "Beeramguda                    51\n",
      "Nanakramguda                  49\n",
      "Gajularamaram                 48\n",
      "Banjara Hills                 44\n",
      "Tellapur                      43\n",
      "Appa Junction                 43\n",
      "Serilingampally               41\n",
      "Jubilee Hills                 41\n",
      "Name: Location, dtype: int64\n"
     ]
    }
   ],
   "source": [
    "# Identify the top 15 locations\n",
    "top_20_locations = data['Location'].value_counts().nlargest(20)\n",
    "\n",
    "# Display the frequency of the top 15 locations\n",
    "print(top_20_locations)"
   ]
  },
  {
   "cell_type": "code",
   "execution_count": 36,
   "metadata": {},
   "outputs": [
    {
     "name": "stdout",
     "output_type": "stream",
     "text": [
      "Madhapur                     34\n",
      "Krishna Reddy Pet            34\n",
      "Nallagandla Gachibowli       32\n",
      "Bachupally                   28\n",
      "Appa Junction Peerancheru    28\n",
      "                             ..\n",
      "Khizra Enclave                1\n",
      "ALIND Employees Colony        1\n",
      "Ameerpet                      1\n",
      "Methodist Colony              1\n",
      "Paradise Circle               1\n",
      "Name: Location, Length: 223, dtype: int64\n"
     ]
    }
   ],
   "source": [
    "# Assuming 'data_1' is your DataFrame\n",
    "# Identify the top 10 locations\n",
    "top_20_locations = data['Location'].value_counts().nlargest(20).index\n",
    "\n",
    "# Filter the DataFrame to get locations that are not in the top 10\n",
    "other_locations = data[~data['Location'].isin(top_20_locations)]\n",
    "\n",
    "# Find the frequency of these other locations\n",
    "frequency_other_locations = other_locations['Location'].value_counts()\n",
    "\n",
    "# Display the frequency of locations other than the top 10 locations\n",
    "print(frequency_other_locations)"
   ]
  },
  {
   "cell_type": "code",
   "execution_count": 37,
   "metadata": {},
   "outputs": [
    {
     "name": "stdout",
     "output_type": "stream",
     "text": [
      "   Area         Location  No. of Bedrooms  Resale\n",
      "0  1340        Manikonda                2       0\n",
      "1  3498         Kondapur                4       0\n",
      "2  1318         Nizampet                2       0\n",
      "3  1295    Appa Junction                3       1\n",
      "4  1145        Manikonda                2       0\n",
      "5  1230    Jubilee Hills                2       0\n",
      "6  1350  Bachupally Road                2       0\n",
      "7  1400         Kondapur                3       0\n",
      "8  2240      Puppalaguda                3       0\n",
      "9  1520        Manikonda                2       1\n"
     ]
    }
   ],
   "source": [
    "import random\n",
    "\n",
    "top_20_locations = ['Kukatpally', 'Kondapur', 'Manikonda', 'Nizampet', 'Gachibowli',\n",
    "       'Hitech City', 'Miyapur', 'Kokapet', 'Pragathi Nagar Kukatpally',\n",
    "       'Bachupally Road', 'Narsingi', 'Puppalaguda', 'Beeramguda',\n",
    "       'Nanakramguda', 'Gajularamaram', 'Banjara Hills', 'Tellapur',\n",
    "       'Appa Junction', 'Serilingampally', 'Jubilee Hills']\n",
    "\n",
    "# Fill the 'Location' column with random choices from the top 10 locations\n",
    "data['Location'] = pd.Series([random.choice(top_20_locations) for _ in data.index], index=data.index)\n",
    "\n",
    "# Display the first few rows to check\n",
    "print(data.head(10))\n"
   ]
  },
  {
   "cell_type": "code",
   "execution_count": 38,
   "metadata": {},
   "outputs": [
    {
     "data": {
      "text/plain": [
       "0    11\n",
       "1     9\n",
       "2    15\n",
       "3     0\n",
       "4    11\n",
       "5     7\n",
       "6     1\n",
       "7     9\n",
       "8    17\n",
       "9    11\n",
       "Name: location_encoded, dtype: int32"
      ]
     },
     "execution_count": 38,
     "metadata": {},
     "output_type": "execute_result"
    }
   ],
   "source": [
    "\"\"\"**2**.**DATA** **TRANSFORMATION**\"\"\"\n",
    "\n",
    "# Import the LabelEncoder class from the sklearn.preprocessing module\n",
    "from sklearn.preprocessing import LabelEncoder\n",
    "\n",
    "# Create an instance of the LabelEncoder class\n",
    "encoder = LabelEncoder()\n",
    "\n",
    "# Fit the encoder to the \"Location\" column and transform the data\n",
    "data = data.copy()  # Ensure data_1 is a copy if needed\n",
    "data.loc[:, \"location_encoded\"] = encoder.fit_transform(data.loc[:, \"Location\"].astype(str))\n",
    "\n",
    "data.shape\n",
    "\n",
    "data[\"location_encoded\"].head(10)"
   ]
  },
  {
   "cell_type": "code",
   "execution_count": 39,
   "metadata": {},
   "outputs": [
    {
     "data": {
      "text/html": [
       "<div>\n",
       "<style scoped>\n",
       "    .dataframe tbody tr th:only-of-type {\n",
       "        vertical-align: middle;\n",
       "    }\n",
       "\n",
       "    .dataframe tbody tr th {\n",
       "        vertical-align: top;\n",
       "    }\n",
       "\n",
       "    .dataframe thead th {\n",
       "        text-align: right;\n",
       "    }\n",
       "</style>\n",
       "<table border=\"1\" class=\"dataframe\">\n",
       "  <thead>\n",
       "    <tr style=\"text-align: right;\">\n",
       "      <th></th>\n",
       "      <th>Area</th>\n",
       "      <th>Location</th>\n",
       "      <th>No. of Bedrooms</th>\n",
       "      <th>Resale</th>\n",
       "      <th>location_encoded</th>\n",
       "    </tr>\n",
       "  </thead>\n",
       "  <tbody>\n",
       "    <tr>\n",
       "      <th>0</th>\n",
       "      <td>1340</td>\n",
       "      <td>Manikonda</td>\n",
       "      <td>2</td>\n",
       "      <td>0</td>\n",
       "      <td>11</td>\n",
       "    </tr>\n",
       "    <tr>\n",
       "      <th>1</th>\n",
       "      <td>3498</td>\n",
       "      <td>Kondapur</td>\n",
       "      <td>4</td>\n",
       "      <td>0</td>\n",
       "      <td>9</td>\n",
       "    </tr>\n",
       "    <tr>\n",
       "      <th>2</th>\n",
       "      <td>1318</td>\n",
       "      <td>Nizampet</td>\n",
       "      <td>2</td>\n",
       "      <td>0</td>\n",
       "      <td>15</td>\n",
       "    </tr>\n",
       "    <tr>\n",
       "      <th>3</th>\n",
       "      <td>1295</td>\n",
       "      <td>Appa Junction</td>\n",
       "      <td>3</td>\n",
       "      <td>1</td>\n",
       "      <td>0</td>\n",
       "    </tr>\n",
       "    <tr>\n",
       "      <th>4</th>\n",
       "      <td>1145</td>\n",
       "      <td>Manikonda</td>\n",
       "      <td>2</td>\n",
       "      <td>0</td>\n",
       "      <td>11</td>\n",
       "    </tr>\n",
       "    <tr>\n",
       "      <th>5</th>\n",
       "      <td>1230</td>\n",
       "      <td>Jubilee Hills</td>\n",
       "      <td>2</td>\n",
       "      <td>0</td>\n",
       "      <td>7</td>\n",
       "    </tr>\n",
       "    <tr>\n",
       "      <th>6</th>\n",
       "      <td>1350</td>\n",
       "      <td>Bachupally Road</td>\n",
       "      <td>2</td>\n",
       "      <td>0</td>\n",
       "      <td>1</td>\n",
       "    </tr>\n",
       "    <tr>\n",
       "      <th>7</th>\n",
       "      <td>1400</td>\n",
       "      <td>Kondapur</td>\n",
       "      <td>3</td>\n",
       "      <td>0</td>\n",
       "      <td>9</td>\n",
       "    </tr>\n",
       "    <tr>\n",
       "      <th>8</th>\n",
       "      <td>2240</td>\n",
       "      <td>Puppalaguda</td>\n",
       "      <td>3</td>\n",
       "      <td>0</td>\n",
       "      <td>17</td>\n",
       "    </tr>\n",
       "    <tr>\n",
       "      <th>9</th>\n",
       "      <td>1520</td>\n",
       "      <td>Manikonda</td>\n",
       "      <td>2</td>\n",
       "      <td>1</td>\n",
       "      <td>11</td>\n",
       "    </tr>\n",
       "  </tbody>\n",
       "</table>\n",
       "</div>"
      ],
      "text/plain": [
       "   Area         Location  No. of Bedrooms  Resale  location_encoded\n",
       "0  1340        Manikonda                2       0                11\n",
       "1  3498         Kondapur                4       0                 9\n",
       "2  1318         Nizampet                2       0                15\n",
       "3  1295    Appa Junction                3       1                 0\n",
       "4  1145        Manikonda                2       0                11\n",
       "5  1230    Jubilee Hills                2       0                 7\n",
       "6  1350  Bachupally Road                2       0                 1\n",
       "7  1400         Kondapur                3       0                 9\n",
       "8  2240      Puppalaguda                3       0                17\n",
       "9  1520        Manikonda                2       1                11"
      ]
     },
     "execution_count": 39,
     "metadata": {},
     "output_type": "execute_result"
    }
   ],
   "source": [
    "data.head(10)"
   ]
  },
  {
   "cell_type": "code",
   "execution_count": 40,
   "metadata": {},
   "outputs": [
    {
     "name": "stdout",
     "output_type": "stream",
     "text": [
      "Frequency of each value in the 'location' column:\n",
      "Kondapur                     148\n",
      "Jubilee Hills                146\n",
      "Beeramguda                   134\n",
      "Manikonda                    133\n",
      "Narsingi                     133\n",
      "Puppalaguda                  131\n",
      "Nanakramguda                 130\n",
      "Serilingampally              130\n",
      "Nizampet                     129\n",
      "Appa Junction                128\n",
      "Kokapet                      127\n",
      "Hitech City                  123\n",
      "Kukatpally                   121\n",
      "Gachibowli                   120\n",
      "Miyapur                      119\n",
      "Bachupally Road              115\n",
      "Pragathi Nagar Kukatpally    115\n",
      "Banjara Hills                113\n",
      "Tellapur                     112\n",
      "Gajularamaram                111\n",
      "Name: Location, dtype: int64\n"
     ]
    }
   ],
   "source": [
    "# Find the frequency of each value in the 'location' column\n",
    "location_frequency = data['Location'].value_counts()\n",
    "\n",
    "print(\"Frequency of each value in the 'location' column:\")\n",
    "print(location_frequency)\n"
   ]
  },
  {
   "cell_type": "code",
   "execution_count": null,
   "metadata": {},
   "outputs": [],
   "source": [
    "\n"
   ]
  }
 ],
 "metadata": {
  "kernelspec": {
   "display_name": "base",
   "language": "python",
   "name": "python3"
  },
  "language_info": {
   "codemirror_mode": {
    "name": "ipython",
    "version": 3
   },
   "file_extension": ".py",
   "mimetype": "text/x-python",
   "name": "python",
   "nbconvert_exporter": "python",
   "pygments_lexer": "ipython3",
   "version": "3.11.4"
  }
 },
 "nbformat": 4,
 "nbformat_minor": 2
}
